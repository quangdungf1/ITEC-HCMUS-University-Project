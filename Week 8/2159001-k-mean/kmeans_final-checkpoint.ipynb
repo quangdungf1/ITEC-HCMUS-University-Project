{
 "cells": [
  {
   "cell_type": "markdown",
   "metadata": {
    "id": "DVEMCmRRnrc1"
   },
   "source": [
    "# $k$-means Algorithm\n"
   ]
  },
  {
   "cell_type": "markdown",
   "metadata": {
    "id": "IqV9aAPenrc2"
   },
   "source": [
    "#### Preamble code"
   ]
  },
  {
   "cell_type": "code",
   "execution_count": 1,
   "metadata": {
    "executionInfo": {
     "elapsed": 3481,
     "status": "ok",
     "timestamp": 1678438509329,
     "user": {
      "displayName": "Trọng Lễ Đỗ",
      "userId": "13167078579765796570"
     },
     "user_tz": -420
    },
    "id": "s53oZwmcnrc3"
   },
   "outputs": [],
   "source": [
    "%matplotlib inline\n",
    "\n",
    "import numpy as np\n",
    "import pandas as pd\n",
    "import matplotlib.pyplot as plt\n",
    "from scipy.stats import norm\n",
    "from sklearn.cluster import KMeans\n",
    "from sklearn.metrics import pairwise_distances\n",
    "from sklearn.datasets import make_blobs\n",
    "import time"
   ]
  },
  {
   "cell_type": "markdown",
   "metadata": {
    "id": "GHhzmtrAnrc6"
   },
   "source": [
    "# The $k$-means algorithm\n",
    "\n",
    "$k$-means clustering aims to partition $n$ $d-$dimensional observations into $k$ clusters in which each observation belongs to the cluster with the nearest mean, serving as a prototype of the cluster. This results in a partitioning of the data space into Voronoi cells.\n",
    "The problem is computationally difficult (NP-hard); however, there are efficient heuristic algorithms that are commonly employed and converge quickly to a local optimum. In this Notebook we'll focus on one of them in particular: the Lloyd algorithm.\n",
    "\n",
    "The $k$-means problem can be formalized as follows. Given a set of observations $(x_1, x_2, \\cdots, x_n)$, where each observation is a $d$-dimensional real vector, $k$-means clustering aims to partition the $n$ observations into $k \\leq n$ sets $S = \\{S_1, S_2, \\cdots, S_k\\}$ so as to minimize the within-cluster sum of squares (WCSS) (i.e. variance). \n",
    "The objective is to find:\n",
    "\n",
    "$$\n",
    "\\arg \\min_S \\sum_{i=1}^{k} \\sum_{x \\in S_i} || \\boldsymbol{x} - \\boldsymbol{\\mu_i} ||^2\n",
    "$$"
   ]
  },
  {
   "cell_type": "markdown",
   "metadata": {
    "id": "lBttjoewnrc6"
   },
   "source": [
    "The most common algorithm uses an iterative refinement technique. Given an initial set of $k$ centroids $\\mu_1^{(1)}, \\cdots, \\mu_k^{(1)}$ , the algorithm proceeds by alternating between two steps: in the **assignment step**, observations are associated to the closest **centroid**, in terms of squared Euclidean distance; in the **update step** new centroids are computed based on the new points associated to each centroid. Note: $\\mu_i^{(t)}$ stands for the $i$-th centroid as of the $t$-th iteration. So $\\mu_1^{(1)}$ is the centroid 1 at iteration 1."
   ]
  },
  {
   "cell_type": "markdown",
   "metadata": {
    "id": "3G1sSfmVnrc7"
   },
   "source": [
    "## Algorithm pseudo-code\n",
    "It is important to work on a principled approach to the design of large-scale algorithms, and this starts with using good data structures and scientific libraries, such as ```numpy``` and ```scipy```. In particular, we will focus on the use of ```numpy``` arrays, which come with efficient methods for array operations. A pseudo-code for the $k$-means algorithm is specified below:\n",
    "\n",
    "```python\n",
    "def kmeans(X, k, maxiter, seed=None):\n",
    "    \"\"\"\n",
    "    specify the number of clusters k and\n",
    "    the maximum iteration to run the algorithm\n",
    "    \"\"\"\n",
    "\n",
    "    # randomly choose k data points as initial centroids\n",
    "    centroids = X[rand_indices]\n",
    "    \n",
    "    for itr in range(maxiter):\n",
    "        # ---------------\n",
    "        # ASSIGNMENT STEP\n",
    "        # ---------------\n",
    "        # compute the distance matrix between each data point and the set of centroids\n",
    "        distance_matrix = # row Index = data point Index; col Index = centroid Index; value=distance\n",
    "        # assign each data point to the closest centroid\n",
    "        cluster_assignment = # array Index = data point Index; array value = closest centroid Index\n",
    "        \n",
    "        # UPDATE STEP\n",
    "        # select all data points that belong to cluster i and compute\n",
    "        # the mean of these data points (each feature individually)\n",
    "        # this will be our new cluster centroids\n",
    "        new_centroids = ...\n",
    "        \n",
    "        # STOP CONDITION\n",
    "        # if centroids == new_centroids => stop\n",
    " \n",
    "    \n",
    "```"
   ]
  },
  {
   "cell_type": "markdown",
   "metadata": {
    "id": "INaNMFd0nrc8"
   },
   "source": [
    "# Synthetic data generation: working in bi-dimensional spaces\n",
    "\n",
    "Next, we use sklearn to generate some synthetic data to test our algorithm."
   ]
  },
  {
   "cell_type": "code",
   "execution_count": 2,
   "metadata": {
    "executionInfo": {
     "elapsed": 728,
     "status": "ok",
     "timestamp": 1678438523293,
     "user": {
      "displayName": "Trọng Lễ Đỗ",
      "userId": "13167078579765796570"
     },
     "user_tz": -420
    },
    "id": "9T_9yeYRnrc9"
   },
   "outputs": [],
   "source": [
    "X, y = make_blobs(n_samples = 300, centers = 4,\n",
    "                  random_state = 0, cluster_std = 0.6)"
   ]
  },
  {
   "cell_type": "code",
   "execution_count": null,
   "metadata": {
    "id": "Akin1TTK5yuu"
   },
   "outputs": [],
   "source": []
  },
  {
   "cell_type": "code",
   "execution_count": 4,
   "metadata": {
    "colab": {
     "base_uri": "https://localhost:8080/"
    },
    "executionInfo": {
     "elapsed": 865,
     "status": "ok",
     "timestamp": 1678438551171,
     "user": {
      "displayName": "Trọng Lễ Đỗ",
      "userId": "13167078579765796570"
     },
     "user_tz": -420
    },
    "id": "ngUFQHHiu2oU",
    "outputId": "3f56e320-400c-408e-d528-d5b2099c45e8"
   },
   "outputs": [
    {
     "data": {
      "text/plain": [
       "(300, 2)"
      ]
     },
     "execution_count": 4,
     "metadata": {},
     "output_type": "execute_result"
    }
   ],
   "source": [
    "X.shape"
   ]
  },
  {
   "cell_type": "code",
   "execution_count": null,
   "metadata": {
    "id": "iFE3TmvSnrc_",
    "outputId": "b86b34e1-28d0-4d32-87ea-08dd35bb3a39"
   },
   "outputs": [
    {
     "data": {
      "image/png": "[encoded data removed]",
      "text/plain": [
       "<Figure size 360x432 with 1 Axes>"
      ]
     },
     "metadata": {
      "tags": []
     },
     "output_type": "display_data"
    }
   ],
   "source": [
    "# change default figure and font size\n",
    "plt.rcParams['figure.figsize'] = 5, 6 \n",
    "plt.rcParams['font.size'] = 12\n",
    "\n",
    "# scatter plot\n",
    "plt.scatter(X[:, 0], X[:, 1], s = 50)\n",
    "plt.ylim(-2, 10)\n",
    "plt.xlim(-6, 6)\n",
    "plt.gca().set_aspect('equal')\n",
    "plt.show()"
   ]
  },
  {
   "cell_type": "markdown",
   "metadata": {
    "id": "_9DoDev1nrdD"
   },
   "source": [
    "<div class=\"alert alert-block alert-info\">\n",
    "<strong>Question 1.</strong> Implement your own version of k-means, as a serial algorithm.\n",
    "\n",
    "Follow the guidelines below:\n",
    "\n",
    "<ul>\n",
    "    <li> Define a function to perform k-means clustering. The function should accept as inputs: the training data x, the number of clusters k, and the iteration budget you allocate to the algorithm. Additional arguments might include the use of a random seed to initialize centroids.</li>\n",
    "    <li>The function should output the centroids, and the cluster assignment, that is, to which centroid each data point is assigned to</li>\n",
    "    <li> Optionally, keep track of the position of the centroids, for each iteration.</li>\n",
    "</ul>\n",
    "\n",
    "<br>\n",
    "Once the ```kmeans``` function is defined, you can generate input data according to the cell above, that uses scikitlearn.\n",
    "<br>\n",
    "\n",
    "The output of your cell should contain the following information:\n",
    "<ul>\n",
    "    <li> Print the number of data points that belong to each cluster</li>\n",
    "    <li> Plot the clustered data points:</li>\n",
    "    <ul>\n",
    "        <li>Using different colors for each cluster</li>\n",
    "        <li>Plot the centroid positions for each cluster</li>\n",
    "    </ul>\n",
    "</ul>\n",
    "</div>"
   ]
  },
  {
   "cell_type": "code",
   "execution_count": null,
   "metadata": {
    "id": "tIrRPJhPnrdF"
   },
   "outputs": [],
   "source": [
    "def plot_kmeans(data, labels, centroids, centroids_Hist=None):\n",
    "    '''\n",
    "    Plot the clustered data of Kmeans algorithm.\n",
    "    \n",
    "    Arguments:\n",
    "    data             --- the input data\n",
    "    labels           --- label for each data point applied Kmeans\n",
    "    centroids        --- centers for each cluster applied Kmeans\n",
    "    centroids_Hist   --- a list contains the centroid's position for each iteration\n",
    "    \n",
    "    '''\n",
    "    \n",
    "    # figure configuration\n",
    "    plt.rcParams['figure.figsize'] = 15, 6 \n",
    "    plt.rcParams['font.size'] = 12\n",
    "    xmin = min(X[:,0])\n",
    "    xmax = max(X[:,0])\n",
    "    ymin = min(X[:,1])\n",
    "    ymax = max(X[:,1])\n",
    "    \n",
    "    plt.ylim(ymin - 1, ymax + 1)\n",
    "    plt.xlim(xmin - 1, xmax + 1)\n",
    "    plt.gca().set_aspect('equal')\n",
    "    \n",
    "    # scatter plot\n",
    "    plt.scatter(data[:,0], data[:,1], c = labels)\n",
    "    plt.scatter(centroids[:,0], centroids[:,1], c = 'r', marker='^', s=200)\n",
    "    if centroids_Hist is not None:\n",
    "        for i in range(len(centroids)):\n",
    "            plt.plot(centroids_Hist[:,i,0], centroids_Hist[:,i,1], c = 'b', marker=\">\")"
   ]
  },
  {
   "cell_type": "code",
   "execution_count": null,
   "metadata": {
    "id": "a3YtDcM3nrdH"
   },
   "outputs": [],
   "source": [
    "def kmeans_init_centers(X, k):\n",
    "    '''\n",
    "    Intialize centers for K-means algorithm \n",
    "    by randomly choosing k point from dataset.\n",
    "    \n",
    "    Arguments:\n",
    "    X             -- input data.\n",
    "    k             -- centroids.\n",
    "    \n",
    "    Return:\n",
    "    c             -- initial centers.\n",
    "    '''    \n",
    "    \n",
    "    # TODO 1: randomly pick k rows of X as initial centers\n",
    "    idx = np.random.choice(X.shape[0], k, replace=False)\n",
    "    c = X[idx, :]\n",
    "    \n",
    "    return c\n",
    "\n",
    "def kmeans_assign_labels(X,c):\n",
    "    \n",
    "    '''\n",
    "    Assign label for each data point. Each data point is assigned\n",
    "    to its nearest centroid, based on the squared Euclidean distance.\n",
    "    \n",
    "    Arguments:\n",
    "    X             -- input data.\n",
    "    c             -- centroids.\n",
    "    \n",
    "    Return:\n",
    "    l             -- assigned label for each data point.\n",
    "    '''\n",
    "    \n",
    "   # compute the distance matrix between each data point and the set of centroids\n",
    "    distance_matrix = np.linalg.norm(X[:, np.newaxis, :] - c, axis=2)\n",
    "    # assign each data point to the closest centroid\n",
    "    l = np.argmin(distance_matrix, axis=1)\n",
    "    \n",
    "    return l\n",
    "\n",
    "def kmeans_update_centers(X, l, k):\n",
    "    \n",
    "    '''\n",
    "    Update the new centroids by taking the mean of\n",
    "    all data points assigned to its centroid's cluster.\n",
    "    \n",
    "    Arguments:\n",
    "    X             -- input data.\n",
    "    l             -- label for each data point.\n",
    "    k             -- number of cluster\n",
    "\n",
    "    Return:\n",
    "    c             -- updated centroids\n",
    "    '''  \n",
    "    \n",
    "    # select all data points that belong to cluster i and compute\n",
    "    # the mean of these data points (each feature individually)\n",
    "    # this will be our new cluster centroids\n",
    "    c = np.empty((k,X.shape[1]))\n",
    "    for idx in range(k):\n",
    "        Xk = X[l == idx]\n",
    "        # Update centroids\n",
    "        c[idx] = Xk.mean(axis=0)\n",
    "    \n",
    "    return c\n",
    "\n",
    "def isConverged(c1, c2):\n",
    "    \n",
    "    '''\n",
    "    Check whether or not convergence is reached by checking\n",
    "    the current centroids and the previous centroids are equal.\n",
    "    \n",
    "    Arguments:\n",
    "    c1            -- current centroids.\n",
    "    c2            -- previous centroids.\n",
    "\n",
    "    Return:\n",
    "    \"True\"        -- the current centroids and the previous centroids are equal\n",
    "    \"False\"       -- otherwise\n",
    "    \n",
    "    '''\n",
    "    return np.all(np.abs(c1 - c2) < tol)"
   ]
  },
  {
   "cell_type": "code",
   "execution_count": null,
   "metadata": {
    "id": "88eLxjG9nrdK"
   },
   "outputs": [],
   "source": [
    "import random\n",
    "def kmeans(X, k, maxiter, seed=None):\n",
    "    '''\n",
    "    An implement of Kmeans algorithm alternating between two steps: \n",
    "    1. Assignment step: observations are associated to the closest centroid (squared Euclidean distance);\n",
    "    2. Update step: new centroids are computed based on the new points associated to each centroid.\n",
    "    Kmeans algorithm will end before maxIter if the current centroid and the previous centroids are the same.\n",
    "    \n",
    "    *NOTE: This is baseline verison of Kmeans algorithm\n",
    "    \n",
    "    Arguments:\n",
    "    X                      --- data\n",
    "    k                      --- number of expected clusters\n",
    "    max_Iter               --- number of iterations that Kmeans should run\n",
    "    seed                   --- integer starting value for seed() method\n",
    "    \n",
    "    Return:\n",
    "    cluster_assignment     --- cluster label of data point\n",
    "    new_centroids          --- updated centroids\n",
    "    centroids_Hist         --- a list contains the centroid's position for each iteration.\n",
    "    \n",
    "    '''\n",
    "    if seed is not None:\n",
    "        np.random.seed(i)\n",
    "    \n",
    "    # Initialize centroids\n",
    "    init_centroids = kmeans_init_centers(X, k)\n",
    "\n",
    "    # history vectors\n",
    "    centroids_Hist = [init_centroids]\n",
    "    old_centroids = init_centroids\n",
    "    for itr in range(maxiter):\n",
    "        # ---------------\n",
    "        # ASSIGNMENT STEP\n",
    "        # ---------------\n",
    "        cluster_assignment = kmeans_assign_labels(X, old_centroids)\n",
    "\n",
    "        # UPDATE STEP\n",
    "        new_centroids = kmeans_update_centers(X, cluster_assignment, k)\n",
    "\n",
    "        # STOP CONDITION\n",
    "        if isConverged(new_centroids, old_centroids):\n",
    "            break\n",
    "\n",
    "        old_centroids = new_centroids\n",
    "        centroids_Hist.append(new_centroids)\n",
    "\n",
    "    return cluster_assignment, new_centroids, np.array(centroids_Hist)"
   ]
  },
  {
   "cell_type": "code",
   "execution_count": null,
   "metadata": {
    "id": "PoMH-k5gnrdN",
    "outputId": "499ea3a9-5e0c-4ced-90c1-cb5e72bf33cd"
   },
   "outputs": [
    {
     "name": "stdout",
     "output_type": "stream",
     "text": [
      "Centers found by K-means case 1: \n",
      " [[ 1.98726097  0.90144281]\n",
      " [-0.33514647  3.62624134]\n",
      " [-1.73102222  7.43349916]\n",
      " [-0.89247947  8.18394342]]\n",
      "Centers found by K-means case 2: \n",
      " [[ 1.98258281  0.86771314]\n",
      " [-1.37324398  7.75368871]\n",
      " [ 0.94973532  4.41906906]\n",
      " [-1.58438467  2.83081263]]\n"
     ]
    },
    {
     "data": {
      "image/png": "[encoded data removed]",
      "text/plain": [
       "<Figure size 360x432 with 2 Axes>"
      ]
     },
     "metadata": {
      "tags": []
     },
     "output_type": "display_data"
    }
   ],
   "source": [
    "# Parameter configuration\n",
    "Nb_cluster =  4\n",
    "numIterations = 100\n",
    "data = X\n",
    "\n",
    "# Run 2 cases with different initial centroids\n",
    "for i in range(1,3):\n",
    "    # apply Kmeans alogorithm onto given dataset\n",
    "    labels, centers, centers_Hist = kmeans(data, Nb_cluster, numIterations)\n",
    "    print('Centers found by K-means case {0}: \\n'.format(i),  centers)\n",
    "    # plot the clustered dataset\n",
    "    plt.subplot(1,2,i)\n",
    "    plt.title('Case {0}'.format(i))\n",
    "    plot_kmeans(data, labels, centers, centers_Hist)"
   ]
  },
  {
   "cell_type": "markdown",
   "metadata": {
    "id": "NZy8pTfinrdP"
   },
   "source": [
    "# Comment:\n",
    "* K-means clustering is a type of unsupervised learning, which is used when you have unlabeled data (i.e., data without defined categories or groups). The goal of this algorithm is to find groups in the data, with the number of groups represented by the variable K. Hence, the minimized object the within-cluster sum of squares (WCSS) is to find:\n",
    "$$\n",
    "\\arg \\min_S \\sum_{i=1}^{k} \\sum_{x \\in S_i} || \\boldsymbol{x} - \\boldsymbol{\\mu_i} ||^2\n",
    "$$\n",
    "\n",
    "* The algorithm works iteratively to assign each data point to one of K groups based on the features input and initial estimates for the Κ centroids, which can either be randomly generated or randomly selected from the data set. Then the k-means will converge after finite iterations since there are only a finite number of cluster assignments. \n",
    "\n",
    "* We assume that the number of clusters in the given dataset is 4. The above two diagrams are respective to two different initial centroids. As we can see, the performance heavily depends on centroids initialization. Choosing the poor random initial centroids will take longer to converge or get stuck on local optima which may result in bad clustering - refer to the above diagrams. \n",
    "\n",
    "* The k-means method using the scikit-learn library usually perform fairly good in various cases and it can help to verify the implemented algorithm correctness."
   ]
  },
  {
   "cell_type": "markdown",
   "metadata": {
    "id": "t8IZbaUGnrdQ"
   },
   "source": [
    "<div class=\"alert alert-block alert-info\">\n",
    "<strong>Question 2.</strong> Use the built-in k-means implementation in sklearn and determine centroids and clusters.\n",
    "\n",
    "Follow the guidelines below:\n",
    "\n",
    "<ul>\n",
    "    <li> Use the KMeans algorithm from sklearn</li>\n",
    "    <li> Use the fit_predict method to cluster data</li>\n",
    "    <li> Use the cluster_centers_ method to retrieve centroids</li>\n",
    "</ul>\n",
    "\n",
    "The output of your cell should contain the following information:\n",
    "<ul>\n",
    "    <li> Plot the clustered data points, using the same code your have produced for Question.1</li>\n",
    "    <ul>\n",
    "        <li>Using different colors for each cluster</li>\n",
    "        <li>Plot the centroid positions for each cluster</li>\n",
    "    </ul>\n",
    "</ul>\n",
    "</div>"
   ]
  },
  {
   "cell_type": "code",
   "execution_count": null,
   "metadata": {
    "id": "RBftfMaPnrdQ",
    "outputId": "4583613b-a91c-4a4e-c5af-d04fa49faf64"
   },
   "outputs": [
    {
     "name": "stdout",
     "output_type": "stream",
     "text": [
      "Centers found by scikit-learn:\n",
      " [[ 1.98258281  0.86771314]\n",
      " [ 0.94973532  4.41906906]\n",
      " [-1.37324398  7.75368871]\n",
      " [-1.58438467  2.83081263]]\n"
     ]
    },
    {
     "data": {
      "image/png": "[encoded data removed]",
      "text/plain": [
       "<Figure size 1080x432 with 1 Axes>"
      ]
     },
     "metadata": {
      "tags": []
     },
     "output_type": "display_data"
    }
   ],
   "source": [
    "# TODO 6: implement K-means algorithm using sklearn \n",
    "skl_kmeans = KMeans(n_clusters=3)\n",
    "skl_labels = skl_kmeans.fit_predict(data)\n",
    "skl_centers = skl_kmeans.cluster_centers_\n",
    "print('Centers found by scikit-learn:\\n', skl_centers)\n",
    "plot_kmeans(data, skl_labels, skl_centers)\n"
   ]
  },
  {
   "cell_type": "markdown",
   "metadata": {
    "id": "FUZnA_uZnrdT"
   },
   "source": [
    "<div class=\"alert alert-block alert-info\">\n",
    "<strong>Question 3.</strong> Use the sklearn dataset API to generate alternative synthetic data to test your k-means algorithm implementation.\n",
    "\n",
    "Follow the guidelines from this document: http://scikit-learn.org/stable/auto_examples/cluster/plot_cluster_comparison.html#sphx-glr-auto-examples-cluster-plot-cluster-comparison-py\n",
    "\n",
    "\n",
    "The output of your cell should contain the following information:\n",
    "<ul>\n",
    "    <li> Plot the new synthetic dataset you generated\n",
    "    <li> Plot the clustered data points, using the same code your have produced for Question.1</li>\n",
    "    <ul>\n",
    "        <li>Using different colors for each cluster</li>\n",
    "        <li>Plot the centroid positions for each cluster</li>\n",
    "    </ul>\n",
    "</ul>\n",
    "</div>"
   ]
  },
  {
   "cell_type": "code",
   "execution_count": 8,
   "metadata": {
    "id": "2aGRTGXrnrdU",
    "outputId": "451cebd3-e1df-48ba-b85e-a91867326b61",
    "tags": []
   },
   "outputs": [
    {
     "ename": "TypeError",
     "evalue": "cannot unpack non-iterable ellipsis object",
     "output_type": "error",
     "traceback": [
      "\u001b[1;31m---------------------------------------------------------------------------\u001b[0m",
      "\u001b[1;31mTypeError\u001b[0m                                 Traceback (most recent call last)",
      "Cell \u001b[1;32mIn[8], line 99\u001b[0m\n\u001b[0;32m     96\u001b[0m \u001b[38;5;66;03m# Run 2 cases with different initial centroids\u001b[39;00m\n\u001b[0;32m     97\u001b[0m \u001b[38;5;28;01mfor\u001b[39;00m j \u001b[38;5;129;01min\u001b[39;00m \u001b[38;5;28mrange\u001b[39m(\u001b[38;5;241m1\u001b[39m,\u001b[38;5;241m3\u001b[39m):\n\u001b[0;32m     98\u001b[0m     \u001b[38;5;66;03m# TODO 8: apply Kmeans alogorithm onto given dataset \u001b[39;00m\n\u001b[1;32m---> 99\u001b[0m     labels, centers, centers_Hist \u001b[38;5;241m=\u001b[39m \u001b[38;5;241m.\u001b[39m\u001b[38;5;241m.\u001b[39m\u001b[38;5;241m.\u001b[39m\n\u001b[0;32m    100\u001b[0m     \u001b[38;5;66;03m# Plot the clustered dataset\u001b[39;00m\n\u001b[0;32m    101\u001b[0m     plt\u001b[38;5;241m.\u001b[39msubplot(\u001b[38;5;241m2\u001b[39m,\u001b[38;5;241m2\u001b[39m,\u001b[38;5;241m2\u001b[39m\u001b[38;5;241m*\u001b[39mi\u001b[38;5;241m+\u001b[39mj)\n",
      "\u001b[1;31mTypeError\u001b[0m: cannot unpack non-iterable ellipsis object"
     ]
    },
    {
     "data": {
      "text/plain": [
       "<Figure size 2100x1300 with 0 Axes>"
      ]
     },
     "metadata": {},
     "output_type": "display_data"
    }
   ],
   "source": [
    "from sklearn import datasets\n",
    "n_samples = 1500\n",
    "# TODO 7: generate different synthetic datasets\n",
    "\n",
    "seed = 30\n",
    "noisy_circles = datasets.make_circles(\n",
    "    n_samples=n_samples, factor=0.5, noise=0.05, random_state=seed\n",
    ")\n",
    "noisy_moons = datasets.make_moons(n_samples=n_samples, noise=0.05, random_state=seed)\n",
    "blobs = datasets.make_blobs(n_samples=n_samples, random_state=seed)\n",
    "rng = np.random.RandomState(seed)\n",
    "no_structure = rng.rand(n_samples, 2), None\n",
    "\n",
    "# Anisotropicly distributed data\n",
    "random_state = 170\n",
    "X, y = datasets.make_blobs(n_samples=n_samples, random_state=random_state)\n",
    "transformation = [[0.6, -0.6], [-0.4, 0.8]]\n",
    "X_aniso = np.dot(X, transformation)\n",
    "aniso = (X_aniso, y)\n",
    "\n",
    "# blobs with varied variances\n",
    "varied = datasets.make_blobs(\n",
    "    n_samples=n_samples, cluster_std=[1.0, 2.5, 0.5], random_state=random_state\n",
    ")\n",
    "\n",
    "plot_num = 1\n",
    "default_base = {'quantile': .3,\n",
    "                'eps': .3,\n",
    "                'damping': .9,\n",
    "                'preference': -200,\n",
    "                'n_neighbors': 10,\n",
    "                'n_clusters': 3}\n",
    "\n",
    "datasets = [\n",
    "    (\n",
    "        noisy_circles,\n",
    "        {\n",
    "            \"damping\": 0.77,\n",
    "            \"preference\": -240,\n",
    "            \"quantile\": 0.2,\n",
    "            \"n_clusters\": 2,\n",
    "            \"min_samples\": 7,\n",
    "            \"xi\": 0.08,\n",
    "        },\n",
    "    ),\n",
    "    (\n",
    "        noisy_moons,\n",
    "        {\n",
    "            \"damping\": 0.75,\n",
    "            \"preference\": -220,\n",
    "            \"n_clusters\": 2,\n",
    "            \"min_samples\": 7,\n",
    "            \"xi\": 0.1,\n",
    "        },\n",
    "    ),\n",
    "    (\n",
    "        varied,\n",
    "        {\n",
    "            \"eps\": 0.18,\n",
    "            \"n_neighbors\": 2,\n",
    "            \"min_samples\": 7,\n",
    "            \"xi\": 0.01,\n",
    "            \"min_cluster_size\": 0.2,\n",
    "        },\n",
    "    ),\n",
    "    (\n",
    "        aniso,\n",
    "        {\n",
    "            \"eps\": 0.15,\n",
    "            \"n_neighbors\": 2,\n",
    "            \"min_samples\": 7,\n",
    "            \"xi\": 0.1,\n",
    "            \"min_cluster_size\": 0.2,\n",
    "        },\n",
    "    ),\n",
    "    (blobs, {\"min_samples\": 7, \"xi\": 0.1, \"min_cluster_size\": 0.2}),\n",
    "    (no_structure, {}),\n",
    "]\n",
    "\n",
    "for i, (dataset, algo_params) in enumerate(datasets):\n",
    "    # update parameters with dataset-specific values\n",
    "    params = default_base.copy()\n",
    "    params.update(algo_params)\n",
    "\n",
    "    # Parameter configuration\n",
    "    X, y = dataset\n",
    "    Nb_cluster =  2\n",
    "    numIterations = 100\n",
    "    data = X\n",
    "\n",
    "    # Run 2 cases with different initial centroids\n",
    "    for j in range(1, 3):\n",
    "    # Initialize KMeans algorithm\n",
    "        kmeans = KMeans(n_clusters=params['n_clusters'], n_init=j, random_state=seed)\n",
    "    \n",
    "    # Fit KMeans to the dataset and predict labels\n",
    "        labels = kmeans.fit_predict(X)\n",
    "    \n",
    "    # Get the cluster centers\n",
    "        centers = kmeans.cluster_centers_\n",
    "    \n",
    "    # TODO 8: Compute centroids history if needed\n",
    "    \n",
    "    # Plot the clustered dataset\n",
    "        plt.subplot(2, 2, 2*i+j)\n",
    "        plot_kmeans(data, labels, centers)"
   ]
  },
  {
   "cell_type": "markdown",
   "metadata": {
    "id": "NiUdVnabnrdX"
   },
   "source": [
    "# Comment:\n",
    "* The k-means algorithm has proved the high performance with linear separable dataset (since 2 clusters can be seperated by their perpendicular bisector). However, with the synthetic datasets, the k-means method does not perform well due to the random seeding will inevitably merge clusters together, and the algorithm will never be able to split them apart.\n",
    "\n",
    "* According to our examples (moon and circle shape ...) - the above four diagrams,  it always separates the dataset into 2 identical regions, despite trying with different initials centroids, while we expect it to identify two separate circles or moons. \n",
    "\n",
    "* In order to cope with nonlinear separability samples, we can try other statistical approaches such as DBSCAN."
   ]
  },
  {
   "cell_type": "markdown",
   "metadata": {
    "id": "504umzNgnrdX"
   },
   "source": [
    "***"
   ]
  }
 ],
 "metadata": {
  "colab": {
   "provenance": []
  },
  "kernelspec": {
   "display_name": "Python 3 (ipykernel)",
   "language": "python",
   "name": "python3"
  },
  "language_info": {
   "codemirror_mode": {
    "name": "ipython",
    "version": 3
   },
   "file_extension": ".py",
   "mimetype": "text/x-python",
   "name": "python",
   "nbconvert_exporter": "python",
   "pygments_lexer": "ipython3",
   "version": "3.11.5"
  }
 },
 "nbformat": 4,
 "nbformat_minor": 4
}
